{
 "cells": [
  {
   "cell_type": "markdown",
   "source": [
    "# КОМП’ЮТЕРНИЙ ПРАКТИКУМ №1"
   ],
   "metadata": {
    "pycharm": {
     "name": "#%% md\n"
    }
   }
  },
  {
   "cell_type": "markdown",
   "source": [
    "## ПЕРЕВІРКА ГЕНЕРАТОРА ВИПАДКОВИХ ЧИСЕЛ НА ВІДПОВІДНІСТЬ ЗАКОНУ РОЗПОДІЛУ"
   ],
   "metadata": {
    "pycharm": {
     "name": "#%% md\n"
    }
   }
  },
  {
   "cell_type": "markdown",
   "source": [
    "## Кочев Геннадій ІП-91"
   ],
   "metadata": {
    "pycharm": {
     "name": "#%% md\n"
    }
   }
  },
  {
   "cell_type": "markdown",
   "source": [],
   "metadata": {}
  },
  {
   "cell_type": "markdown",
   "source": [
    "## Залежності"
   ],
   "metadata": {
    "pycharm": {
     "name": "#%% md\n"
    }
   }
  },
  {
   "cell_type": "code",
   "execution_count": 29,
   "source": [
    "import math\n",
    "import random\n",
    "import numpy as np\n",
    "import matplotlib.pyplot as plt\n",
    "from scipy import stats"
   ],
   "outputs": [],
   "metadata": {
    "pycharm": {
     "name": "#%%\n"
    }
   }
  },
  {
   "cell_type": "markdown",
   "source": [
    "## Вивід на екран - форматування"
   ],
   "metadata": {
    "collapsed": false,
    "pycharm": {
     "name": "#%% md\n"
    }
   }
  },
  {
   "cell_type": "code",
   "execution_count": 30,
   "source": [
    "def build_histogram(data, bins, title, color='blue'):\n",
    "    _, ax = plt.subplots(figsize=(8, 6))\n",
    "\n",
    "    ax.set_title(title)\n",
    "    ax.set_xlabel('Value')\n",
    "    ax.set_ylabel('Frequency')\n",
    "\n",
    "    ax.grid(True)\n",
    "    ax.hist(data, bins=bins, color=color)\n",
    "    return ax\n",
    "\n",
    "def format_statistics_info(data, title):\n",
    "    mean, std = data\n",
    "    return f'{title}: \\nMean: {mean:.3f}, Std: {std:.3f}'\n",
    "\n",
    "def format_chi_square_info(chi2, chi2_k, title):\n",
    "    return f'{title}: \\nChi^2: {chi2:.3f}, Chi^2 k: {chi2_k}'"
   ],
   "outputs": [],
   "metadata": {
    "pycharm": {
     "name": "#%%\n"
    }
   }
  },
  {
   "cell_type": "markdown",
   "source": [
    "## Обчислення значень"
   ],
   "metadata": {}
  },
  {
   "cell_type": "code",
   "execution_count": 31,
   "source": [
    "# How many columns will fit the histogram\n",
    "def sturges_bins_amount(items_amt):\n",
    "    return math.ceil(math.log2(items_amt) + 1)\n",
    "\n",
    "# Create bins (sections borders on histogram) pairs\n",
    "def split_bins(bins):\n",
    "    return [(bins[idx - 1], bins[idx]) for idx in range(1, bins.size)]\n",
    "\n",
    "def calculate_mean_std(items):\n",
    "    mean = np.mean(items)\n",
    "    std = np.std(items, ddof=1)\n",
    "    return (mean, std)\n",
    "\n",
    "# Chi2 from table (pre-defined) (Percent point function - ppf)\n",
    "def calculate_chi2_k(alpha, bins_amt, params_amt):\n",
    "    return stats.chi2.ppf(1 - alpha, bins_amt - params_amt - 1)\n",
    "\n",
    "# Chi2 calculated by formula\n",
    "def calculate_chi2(items_amt, values, bins, compute_step, *args):\n",
    "    bins_pairs = split_bins(bins)\n",
    "    probabilities_expected = np.array(\n",
    "        [compute_step(left, right, *args) for left, right in bins_pairs]\n",
    "    )\n",
    "    values_expected = items_amt * probabilities_expected\n",
    "    chi2 = np.sum(np.square(values - values_expected) / values_expected)\n",
    "    return chi2\n",
    "\n",
    "def is_matching_chi2_law(chi2, chi2_k):\n",
    "    return chi2 <= chi2_k"
   ],
   "outputs": [],
   "metadata": {}
  },
  {
   "cell_type": "markdown",
   "source": [
    "# Експоненційний закон розподілу"
   ],
   "metadata": {}
  },
  {
   "cell_type": "markdown",
   "source": [
    "## Конфігурація графіку гістограми"
   ],
   "metadata": {}
  },
  {
   "cell_type": "code",
   "execution_count": 32,
   "source": [
    "numbers_to_generate = 10000\n",
    "exponential_bins = sturges_bins_amount(numbers_to_generate)\n",
    "print('Bins for histogram Exponential:', exponential_bins)"
   ],
   "outputs": [
    {
     "output_type": "stream",
     "name": "stdout",
     "text": [
      "Bins for histogram Exponential: 15\n"
     ]
    }
   ],
   "metadata": {}
  },
  {
   "cell_type": "markdown",
   "source": [
    "## Формулюємо закон розподілу"
   ],
   "metadata": {}
  },
  {
   "cell_type": "code",
   "execution_count": 33,
   "source": [
    "lambda_value = 4\n",
    "xi = np.random.uniform(size=numbers_to_generate)\n",
    "exponential_law = -1 / lambda_value * np.log(xi)\n",
    "exponential_law"
   ],
   "outputs": [
    {
     "output_type": "execute_result",
     "data": {
      "text/plain": [
       "array([0.07526001, 0.3511128 , 0.7640748 , ..., 0.11692011, 0.06207179,\n",
       "       0.08112587])"
      ]
     },
     "metadata": {},
     "execution_count": 33
    }
   ],
   "metadata": {}
  },
  {
   "cell_type": "markdown",
   "source": [
    "## Будуємо графік для перевірки закону"
   ],
   "metadata": {}
  },
  {
   "cell_type": "code",
   "execution_count": 34,
   "source": [
    "counts, bins = np.histogram(exponential_law, bins=exponential_bins)\n",
    "build_histogram(exponential_law, exponential_bins, title='Law - Exponential', color='green')"
   ],
   "outputs": [
    {
     "output_type": "execute_result",
     "data": {
      "text/plain": [
       "<AxesSubplot:title={'center':'Law - Exponential'}, xlabel='Value', ylabel='Frequency'>"
      ]
     },
     "metadata": {},
     "execution_count": 34
    },
    {
     "output_type": "display_data",
     "data": {
      "text/plain": [
       "<Figure size 576x432 with 1 Axes>"
      ],
      "image/png": "[encoded data removed]"
     },
     "metadata": {
      "needs_background": "light"
     }
    }
   ],
   "metadata": {}
  },
  {
   "cell_type": "markdown",
   "source": [
    "## Статистика за законом"
   ],
   "metadata": {}
  },
  {
   "cell_type": "code",
   "execution_count": 35,
   "source": [
    "exponential_stats = calculate_mean_std(exponential_law)\n",
    "exponential_mean, exponential_std = exponential_stats\n",
    "fmt = format_statistics_info(exponential_stats, 'Exponential')\n",
    "print(fmt)"
   ],
   "outputs": [
    {
     "output_type": "stream",
     "name": "stdout",
     "text": [
      "Exponential: \n",
      "Mean: 0.246, Std: 0.244\n"
     ]
    }
   ],
   "metadata": {}
  },
  {
   "cell_type": "markdown",
   "source": [
    "## Перевірка за критерієм згоди xi^2"
   ],
   "metadata": {}
  },
  {
   "cell_type": "code",
   "execution_count": 36,
   "source": [
    "def calculate_exponential_step(left, right, lambda_value):\n",
    "    return np.exp(-lambda_value * left) - np.exp(-lambda_value * right)\n",
    "\n",
    "lambda_expected = 1 / exponential_mean\n",
    "exponential_chi2 = calculate_chi2(numbers_to_generate, counts, bins, \n",
    "                                calculate_exponential_step, lambda_expected)\n",
    "exponential_chi2_k = calculate_chi2_k(0.05, exponential_bins, 1)\n",
    "fmt = format_chi_square_info(exponential_chi2, exponential_chi2_k, 'Exponential')\n",
    "print(fmt)"
   ],
   "outputs": [
    {
     "output_type": "stream",
     "name": "stdout",
     "text": [
      "Exponential: \n",
      "Chi^2: 19.911, Chi^2 k: 22.362032494826934\n"
     ]
    }
   ],
   "metadata": {}
  },
  {
   "cell_type": "code",
   "execution_count": 37,
   "source": [
    "print('Exponential law works:', is_matching_chi2_law(exponential_chi2, exponential_chi2_k))"
   ],
   "outputs": [
    {
     "output_type": "stream",
     "name": "stdout",
     "text": [
      "Exponential law works: True\n"
     ]
    }
   ],
   "metadata": {}
  },
  {
   "cell_type": "markdown",
   "source": [
    "# Нормальний закон розподілу"
   ],
   "metadata": {}
  },
  {
   "cell_type": "markdown",
   "source": [
    "## Конфігурація графіку гістограми"
   ],
   "metadata": {}
  },
  {
   "cell_type": "code",
   "execution_count": 39,
   "source": [
    "numbers_to_generate = 10000\n",
    "normal_init_bins = sturges_bins_amount(numbers_to_generate)\n",
    "print('Bins for histogram Normal:', exponential_bins)"
   ],
   "outputs": [
    {
     "output_type": "stream",
     "name": "stdout",
     "text": [
      "Bins for histogram Normal: 15\n"
     ]
    }
   ],
   "metadata": {}
  },
  {
   "cell_type": "markdown",
   "source": [
    "## Формулюємо закон розподілу"
   ],
   "metadata": {}
  },
  {
   "cell_type": "code",
   "execution_count": 41,
   "source": [
    "sigma_value = 4\n",
    "a_value = -5\n",
    "\n",
    "normal_law = np.zeros(numbers_to_generate)\n",
    "for idx in range(numbers_to_generate):\n",
    "    mu_value = np.random.uniform(size=12).sum() - 6\n",
    "    normal_law[idx] = sigma_value * mu_value + a_value\n",
    "normal_law"
   ],
   "outputs": [
    {
     "output_type": "execute_result",
     "data": {
      "text/plain": [
       "array([ -2.95763349, -11.54148904,  -9.11694328, ...,  -7.82786165,\n",
       "        -9.4111833 ,   0.63560975])"
      ]
     },
     "metadata": {},
     "execution_count": 41
    }
   ],
   "metadata": {}
  },
  {
   "cell_type": "markdown",
   "source": [
    "## Будуємо графік для перевірки закону"
   ],
   "metadata": {}
  },
  {
   "cell_type": "code",
   "execution_count": 42,
   "source": [
    "normal_counts, normal_bins = np.histogram(normal_law, bins=normal_init_bins)\n",
    "build_histogram(normal_law, normal_bins, title='Law - Normal', color='yellow')"
   ],
   "outputs": [
    {
     "output_type": "execute_result",
     "data": {
      "text/plain": [
       "<AxesSubplot:title={'center':'Law - Normal'}, xlabel='Value', ylabel='Frequency'>"
      ]
     },
     "metadata": {},
     "execution_count": 42
    },
    {
     "output_type": "display_data",
     "data": {
      "text/plain": [
       "<Figure size 576x432 with 1 Axes>"
      ],
      "image/png": "[encoded data removed]"
     },
     "metadata": {
      "needs_background": "light"
     }
    }
   ],
   "metadata": {}
  },
  {
   "cell_type": "markdown",
   "source": [
    "## Статистика за законом"
   ],
   "metadata": {}
  },
  {
   "cell_type": "code",
   "execution_count": 43,
   "source": [
    "normal_stats = calculate_mean_std(normal_law)\n",
    "normal_mean, normal_std = normal_stats\n",
    "fmt = format_statistics_info(normal_stats, 'Normal')\n",
    "print(fmt)"
   ],
   "outputs": [
    {
     "output_type": "stream",
     "name": "stdout",
     "text": [
      "Normal: \n",
      "Mean: -5.019, Std: 3.997\n"
     ]
    }
   ],
   "metadata": {}
  },
  {
   "cell_type": "markdown",
   "source": [
    "## Перевірка за критерієм згоди xi^2"
   ],
   "metadata": {}
  },
  {
   "cell_type": "code",
   "execution_count": 44,
   "source": [
    "# Cumulative distribution function - cdf\n",
    "def calculate_normal_step(left, right, sigma_value, a_value):\n",
    "    left_cdf, right_cdf = stats.norm.cdf([left, right], loc=sigma_value, scale=a_value)\n",
    "    return right_cdf - left_cdf\n",
    "\n",
    "sigma_expected = normal_mean\n",
    "normal_expected = normal_std\n",
    "normal_chi2 = calculate_chi2(numbers_to_generate, normal_counts, normal_bins, \n",
    "                            calculate_normal_step, sigma_expected, normal_expected)\n",
    "normal_chi2_k = calculate_chi2_k(0.05, normal_init_bins, 2)\n",
    "fmt = format_chi_square_info(normal_chi2, normal_chi2_k, 'Normal')\n",
    "print(fmt)"
   ],
   "outputs": [
    {
     "output_type": "stream",
     "name": "stdout",
     "text": [
      "Normal: \n",
      "Chi^2: 5.681, Chi^2 k: 21.02606981748307\n"
     ]
    }
   ],
   "metadata": {}
  },
  {
   "cell_type": "code",
   "execution_count": 45,
   "source": [
    "print('Normal Law works:', is_matching_chi2_law(normal_chi2, normal_chi2_k))"
   ],
   "outputs": [
    {
     "output_type": "stream",
     "name": "stdout",
     "text": [
      "Normal Law works: True\n"
     ]
    }
   ],
   "metadata": {}
  },
  {
   "cell_type": "markdown",
   "source": [
    "# Рівномірний закон розподілу"
   ],
   "metadata": {}
  },
  {
   "cell_type": "markdown",
   "source": [
    "## Конфігурація графіку гістограми"
   ],
   "metadata": {}
  },
  {
   "cell_type": "code",
   "execution_count": 46,
   "source": [
    "numbers_to_generate = 10000\n",
    "uniform_init_bins = sturges_bins_amount(numbers_to_generate)\n",
    "print('Bins for Uniform Law:', uniform_init_bins)"
   ],
   "outputs": [
    {
     "output_type": "stream",
     "name": "stdout",
     "text": [
      "Bins for Uniform Law: 15\n"
     ]
    }
   ],
   "metadata": {}
  },
  {
   "cell_type": "markdown",
   "source": [
    "## Формулюємо закон розподілу"
   ],
   "metadata": {}
  },
  {
   "cell_type": "code",
   "execution_count": 49,
   "source": [
    "a_value = 5**13\n",
    "c_value = 2**31\n",
    "zi_value = np.random.uniform()\n",
    "\n",
    "uniform_law = np.zeros(numbers_to_generate)\n",
    "for idx in range(numbers_to_generate):\n",
    "    zi_value = (a_value * zi_value) % c_value\n",
    "    uniform_law[idx] = zi_value / c_value\n",
    "uniform_law\n"
   ],
   "outputs": [
    {
     "output_type": "execute_result",
     "data": {
      "text/plain": [
       "array([0.06121034, 0.08354937, 0.43709473, ..., 0.80477715, 0.30095482,\n",
       "       0.70213127])"
      ]
     },
     "metadata": {},
     "execution_count": 49
    }
   ],
   "metadata": {}
  },
  {
   "cell_type": "markdown",
   "source": [
    "## Будуємо графік для перевірки закону"
   ],
   "metadata": {}
  },
  {
   "cell_type": "code",
   "execution_count": 50,
   "source": [
    "uniform_counts, uniform_bins = np.histogram(uniform_law, bins=uniform_init_bins)\n",
    "build_histogram(uniform_law, uniform_bins, title='Law - Uniform', color='blue')"
   ],
   "outputs": [
    {
     "output_type": "execute_result",
     "data": {
      "text/plain": [
       "<AxesSubplot:title={'center':'Law - Uniform'}, xlabel='Value', ylabel='Frequency'>"
      ]
     },
     "metadata": {},
     "execution_count": 50
    },
    {
     "output_type": "display_data",
     "data": {
      "text/plain": [
       "<Figure size 576x432 with 1 Axes>"
      ],
      "image/png": "[encoded data removed]"
     },
     "metadata": {
      "needs_background": "light"
     }
    }
   ],
   "metadata": {}
  },
  {
   "cell_type": "markdown",
   "source": [
    "## Статистика за законом"
   ],
   "metadata": {}
  },
  {
   "cell_type": "code",
   "execution_count": 51,
   "source": [
    "uniform_stats = calculate_mean_std(uniform_law)\n",
    "uniform_mean, uniform_std = uniform_stats\n",
    "fmt = format_statistics_info(uniform_stats, 'Uniform')\n",
    "print(fmt)"
   ],
   "outputs": [
    {
     "output_type": "stream",
     "name": "stdout",
     "text": [
      "Uniform: \n",
      "Mean: 0.503, Std: 0.286\n"
     ]
    }
   ],
   "metadata": {}
  },
  {
   "cell_type": "markdown",
   "source": [
    "## Перевірка за критерієм згоди xi^2"
   ],
   "metadata": {}
  },
  {
   "cell_type": "code",
   "execution_count": 53,
   "source": [
    "def calculate_uniform_step(left, right, a_value, c_value):\n",
    "    return (right - left) / (c_value - a_value)\n",
    "\n",
    "a_expected = uniform_mean - 3 ** 0.5 * uniform_std\n",
    "c_expected = uniform_mean + 3 ** 0.5 * uniform_std\n",
    "uniform_chi2 = calculate_chi2(numbers_to_generate, uniform_counts, uniform_bins,\n",
    "                            calculate_uniform_step, a_expected, c_expected)\n",
    "uniform_chi2_k = calculate_chi2_k(0.05, uniform_init_bins, 2)\n",
    "fmt = format_chi_square_info(uniform_chi2, uniform_chi2_k, 'Uniform')\n",
    "print(fmt)"
   ],
   "outputs": [
    {
     "output_type": "stream",
     "name": "stdout",
     "text": [
      "Uniform: \n",
      "Chi^2: 12.844, Chi^2 k: 21.02606981748307\n"
     ]
    }
   ],
   "metadata": {}
  },
  {
   "cell_type": "code",
   "execution_count": 54,
   "source": [
    "print('Uniform Law works:', is_matching_chi2_law(uniform_chi2, uniform_chi2_k))"
   ],
   "outputs": [
    {
     "output_type": "stream",
     "name": "stdout",
     "text": [
      "Uniform Law works: True\n"
     ]
    }
   ],
   "metadata": {}
  }
 ],
 "metadata": {
  "orig_nbformat": 4,
  "language_info": {
   "name": "python",
   "version": "3.10.4",
   "mimetype": "text/x-python",
   "codemirror_mode": {
    "name": "ipython",
    "version": 3
   },
   "pygments_lexer": "ipython3",
   "nbconvert_exporter": "python",
   "file_extension": ".py"
  },
  "kernelspec": {
   "name": "python3",
   "display_name": "Python 3.10.4 64-bit"
  },
  "interpreter": {
   "hash": "e7370f93d1d0cde622a1f8e1c04877d8463912d04d973331ad4851f04de6915a"
  }
 },
 "nbformat": 4,
 "nbformat_minor": 2
}